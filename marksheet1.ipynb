{
 "cells": [
  {
   "cell_type": "code",
   "execution_count": 1,
   "id": "b3866fd9-8510-4b46-bfe2-d790e62b142e",
   "metadata": {},
   "outputs": [],
   "source": [
    "import pandas as pd"
   ]
  },
  {
   "cell_type": "code",
   "execution_count": 14,
   "id": "23135f28-9017-4da8-a46b-97a47242b32b",
   "metadata": {},
   "outputs": [],
   "source": [
    "import matplotlib.pyplot as plt\n",
    "import seaborn as sns"
   ]
  },
  {
   "cell_type": "code",
   "execution_count": 24,
   "id": "4895545e-626b-4eb3-b243-63bb4f1fc7da",
   "metadata": {},
   "outputs": [],
   "source": [
    "df = pd.read_csv(\"mark_sheet_dataset.csv\")"
   ]
  },
  {
   "cell_type": "code",
   "execution_count": 25,
   "id": "daa9c751-a000-4777-8f52-e2f88187d04c",
   "metadata": {},
   "outputs": [
    {
     "data": {
      "text/html": [
       "<div>\n",
       "<style scoped>\n",
       "    .dataframe tbody tr th:only-of-type {\n",
       "        vertical-align: middle;\n",
       "    }\n",
       "\n",
       "    .dataframe tbody tr th {\n",
       "        vertical-align: top;\n",
       "    }\n",
       "\n",
       "    .dataframe thead th {\n",
       "        text-align: right;\n",
       "    }\n",
       "</style>\n",
       "<table border=\"1\" class=\"dataframe\">\n",
       "  <thead>\n",
       "    <tr style=\"text-align: right;\">\n",
       "      <th></th>\n",
       "      <th>Student_ID</th>\n",
       "      <th>Gender</th>\n",
       "      <th>Math_Score</th>\n",
       "      <th>English_Score</th>\n",
       "      <th>Science_Score</th>\n",
       "      <th>Attendance</th>\n",
       "    </tr>\n",
       "  </thead>\n",
       "  <tbody>\n",
       "    <tr>\n",
       "      <th>0</th>\n",
       "      <td>S1001</td>\n",
       "      <td>Female</td>\n",
       "      <td>79.967142</td>\n",
       "      <td>86.792265</td>\n",
       "      <td>72.598574</td>\n",
       "      <td>75.460962</td>\n",
       "    </tr>\n",
       "    <tr>\n",
       "      <th>1</th>\n",
       "      <td>S1002</td>\n",
       "      <td>Male</td>\n",
       "      <td>73.617357</td>\n",
       "      <td>81.095604</td>\n",
       "      <td>76.843851</td>\n",
       "      <td>80.698075</td>\n",
       "    </tr>\n",
       "    <tr>\n",
       "      <th>2</th>\n",
       "      <td>S1003</td>\n",
       "      <td>Female</td>\n",
       "      <td>81.476885</td>\n",
       "      <td>70.715564</td>\n",
       "      <td>71.660641</td>\n",
       "      <td>82.931972</td>\n",
       "    </tr>\n",
       "    <tr>\n",
       "      <th>3</th>\n",
       "      <td>S1004</td>\n",
       "      <td>Female</td>\n",
       "      <td>90.230299</td>\n",
       "      <td>62.236759</td>\n",
       "      <td>75.536308</td>\n",
       "      <td>94.438438</td>\n",
       "    </tr>\n",
       "    <tr>\n",
       "      <th>4</th>\n",
       "      <td>S1005</td>\n",
       "      <td>Female</td>\n",
       "      <td>72.658466</td>\n",
       "      <td>78.378680</td>\n",
       "      <td>62.851083</td>\n",
       "      <td>87.782766</td>\n",
       "    </tr>\n",
       "    <tr>\n",
       "      <th>...</th>\n",
       "      <td>...</td>\n",
       "      <td>...</td>\n",
       "      <td>...</td>\n",
       "      <td>...</td>\n",
       "      <td>...</td>\n",
       "      <td>...</td>\n",
       "    </tr>\n",
       "    <tr>\n",
       "      <th>1000</th>\n",
       "      <td>S2001</td>\n",
       "      <td>Male</td>\n",
       "      <td>30.000000</td>\n",
       "      <td>20.000000</td>\n",
       "      <td>25.000000</td>\n",
       "      <td>40.000000</td>\n",
       "    </tr>\n",
       "    <tr>\n",
       "      <th>1001</th>\n",
       "      <td>S2002</td>\n",
       "      <td>Male</td>\n",
       "      <td>135.000000</td>\n",
       "      <td>125.000000</td>\n",
       "      <td>120.000000</td>\n",
       "      <td>100.000000</td>\n",
       "    </tr>\n",
       "    <tr>\n",
       "      <th>1002</th>\n",
       "      <td>S1001</td>\n",
       "      <td>Female</td>\n",
       "      <td>79.967142</td>\n",
       "      <td>86.792265</td>\n",
       "      <td>72.598574</td>\n",
       "      <td>75.460962</td>\n",
       "    </tr>\n",
       "    <tr>\n",
       "      <th>1003</th>\n",
       "      <td>S1002</td>\n",
       "      <td>Male</td>\n",
       "      <td>73.617357</td>\n",
       "      <td>81.095604</td>\n",
       "      <td>76.843851</td>\n",
       "      <td>80.698075</td>\n",
       "    </tr>\n",
       "    <tr>\n",
       "      <th>1004</th>\n",
       "      <td>S1003</td>\n",
       "      <td>Female</td>\n",
       "      <td>81.476885</td>\n",
       "      <td>70.715564</td>\n",
       "      <td>71.660641</td>\n",
       "      <td>82.931972</td>\n",
       "    </tr>\n",
       "  </tbody>\n",
       "</table>\n",
       "<p>1005 rows × 6 columns</p>\n",
       "</div>"
      ],
      "text/plain": [
       "     Student_ID  Gender  Math_Score  English_Score  Science_Score  Attendance\n",
       "0         S1001  Female   79.967142      86.792265      72.598574   75.460962\n",
       "1         S1002    Male   73.617357      81.095604      76.843851   80.698075\n",
       "2         S1003  Female   81.476885      70.715564      71.660641   82.931972\n",
       "3         S1004  Female   90.230299      62.236759      75.536308   94.438438\n",
       "4         S1005  Female   72.658466      78.378680      62.851083   87.782766\n",
       "...         ...     ...         ...            ...            ...         ...\n",
       "1000      S2001    Male   30.000000      20.000000      25.000000   40.000000\n",
       "1001      S2002    Male  135.000000     125.000000     120.000000  100.000000\n",
       "1002      S1001  Female   79.967142      86.792265      72.598574   75.460962\n",
       "1003      S1002    Male   73.617357      81.095604      76.843851   80.698075\n",
       "1004      S1003  Female   81.476885      70.715564      71.660641   82.931972\n",
       "\n",
       "[1005 rows x 6 columns]"
      ]
     },
     "execution_count": 25,
     "metadata": {},
     "output_type": "execute_result"
    }
   ],
   "source": [
    "df"
   ]
  },
  {
   "cell_type": "code",
   "execution_count": 17,
   "id": "68bcd8c1-b9e4-46f0-ac63-7476274f710d",
   "metadata": {},
   "outputs": [
    {
     "name": "stdout",
     "output_type": "stream",
     "text": [
      "<class 'pandas.core.frame.DataFrame'>\n",
      "RangeIndex: 1005 entries, 0 to 1004\n",
      "Data columns (total 6 columns):\n",
      " #   Column         Non-Null Count  Dtype  \n",
      "---  ------         --------------  -----  \n",
      " 0   Student_ID     1005 non-null   object \n",
      " 1   Gender         1005 non-null   object \n",
      " 2   Math_Score     1004 non-null   float64\n",
      " 3   English_Score  1004 non-null   float64\n",
      " 4   Science_Score  1004 non-null   float64\n",
      " 5   Attendance     1004 non-null   float64\n",
      "dtypes: float64(4), object(2)\n",
      "memory usage: 47.2+ KB\n"
     ]
    }
   ],
   "source": [
    "df.info()"
   ]
  },
  {
   "cell_type": "code",
   "execution_count": 22,
   "id": "181a8a8e-131d-4956-9fec-0769d47d7e05",
   "metadata": {},
   "outputs": [
    {
     "data": {
      "text/plain": [
       "Student_ID       0\n",
       "Gender           0\n",
       "Math_Score       0\n",
       "English_Score    0\n",
       "Science_Score    0\n",
       "Attendance       1\n",
       "dtype: int64"
      ]
     },
     "execution_count": 22,
     "metadata": {},
     "output_type": "execute_result"
    }
   ],
   "source": [
    "df.isnull().sum()"
   ]
  },
  {
   "cell_type": "code",
   "execution_count": 18,
   "id": "7beb1b4c-cb2f-4eb5-8c91-236b66127c6b",
   "metadata": {},
   "outputs": [
    {
     "data": {
      "text/html": [
       "<div>\n",
       "<style scoped>\n",
       "    .dataframe tbody tr th:only-of-type {\n",
       "        vertical-align: middle;\n",
       "    }\n",
       "\n",
       "    .dataframe tbody tr th {\n",
       "        vertical-align: top;\n",
       "    }\n",
       "\n",
       "    .dataframe thead th {\n",
       "        text-align: right;\n",
       "    }\n",
       "</style>\n",
       "<table border=\"1\" class=\"dataframe\">\n",
       "  <thead>\n",
       "    <tr style=\"text-align: right;\">\n",
       "      <th></th>\n",
       "      <th>Student_ID</th>\n",
       "      <th>Gender</th>\n",
       "      <th>Math_Score</th>\n",
       "      <th>English_Score</th>\n",
       "      <th>Science_Score</th>\n",
       "      <th>Attendance</th>\n",
       "    </tr>\n",
       "  </thead>\n",
       "  <tbody>\n",
       "    <tr>\n",
       "      <th>0</th>\n",
       "      <td>S1001</td>\n",
       "      <td>Female</td>\n",
       "      <td>79.967142</td>\n",
       "      <td>86.792265</td>\n",
       "      <td>72.598574</td>\n",
       "      <td>75.460962</td>\n",
       "    </tr>\n",
       "    <tr>\n",
       "      <th>1</th>\n",
       "      <td>S1002</td>\n",
       "      <td>Male</td>\n",
       "      <td>73.617357</td>\n",
       "      <td>81.095604</td>\n",
       "      <td>76.843851</td>\n",
       "      <td>80.698075</td>\n",
       "    </tr>\n",
       "    <tr>\n",
       "      <th>2</th>\n",
       "      <td>S1003</td>\n",
       "      <td>Female</td>\n",
       "      <td>81.476885</td>\n",
       "      <td>70.715564</td>\n",
       "      <td>71.660641</td>\n",
       "      <td>82.931972</td>\n",
       "    </tr>\n",
       "    <tr>\n",
       "      <th>3</th>\n",
       "      <td>S1004</td>\n",
       "      <td>Female</td>\n",
       "      <td>90.230299</td>\n",
       "      <td>62.236759</td>\n",
       "      <td>75.536308</td>\n",
       "      <td>94.438438</td>\n",
       "    </tr>\n",
       "    <tr>\n",
       "      <th>4</th>\n",
       "      <td>S1005</td>\n",
       "      <td>Female</td>\n",
       "      <td>72.658466</td>\n",
       "      <td>78.378680</td>\n",
       "      <td>62.851083</td>\n",
       "      <td>87.782766</td>\n",
       "    </tr>\n",
       "  </tbody>\n",
       "</table>\n",
       "</div>"
      ],
      "text/plain": [
       "  Student_ID  Gender  Math_Score  English_Score  Science_Score  Attendance\n",
       "0      S1001  Female   79.967142      86.792265      72.598574   75.460962\n",
       "1      S1002    Male   73.617357      81.095604      76.843851   80.698075\n",
       "2      S1003  Female   81.476885      70.715564      71.660641   82.931972\n",
       "3      S1004  Female   90.230299      62.236759      75.536308   94.438438\n",
       "4      S1005  Female   72.658466      78.378680      62.851083   87.782766"
      ]
     },
     "execution_count": 18,
     "metadata": {},
     "output_type": "execute_result"
    }
   ],
   "source": [
    "df.head()"
   ]
  },
  {
   "cell_type": "code",
   "execution_count": 6,
   "id": "d00b6ca7-d63c-473f-a3c2-fe0a023d059e",
   "metadata": {},
   "outputs": [
    {
     "data": {
      "text/html": [
       "<div>\n",
       "<style scoped>\n",
       "    .dataframe tbody tr th:only-of-type {\n",
       "        vertical-align: middle;\n",
       "    }\n",
       "\n",
       "    .dataframe tbody tr th {\n",
       "        vertical-align: top;\n",
       "    }\n",
       "\n",
       "    .dataframe thead th {\n",
       "        text-align: right;\n",
       "    }\n",
       "</style>\n",
       "<table border=\"1\" class=\"dataframe\">\n",
       "  <thead>\n",
       "    <tr style=\"text-align: right;\">\n",
       "      <th></th>\n",
       "      <th>Student_ID</th>\n",
       "      <th>Gender</th>\n",
       "      <th>Math_Score</th>\n",
       "      <th>English_Score</th>\n",
       "      <th>Science_Score</th>\n",
       "      <th>Attendance</th>\n",
       "    </tr>\n",
       "  </thead>\n",
       "  <tbody>\n",
       "    <tr>\n",
       "      <th>1000</th>\n",
       "      <td>S2001</td>\n",
       "      <td>Male</td>\n",
       "      <td>30.000000</td>\n",
       "      <td>20.000000</td>\n",
       "      <td>25.000000</td>\n",
       "      <td>40.000000</td>\n",
       "    </tr>\n",
       "    <tr>\n",
       "      <th>1001</th>\n",
       "      <td>S2002</td>\n",
       "      <td>Male</td>\n",
       "      <td>135.000000</td>\n",
       "      <td>125.000000</td>\n",
       "      <td>120.000000</td>\n",
       "      <td>100.000000</td>\n",
       "    </tr>\n",
       "    <tr>\n",
       "      <th>1002</th>\n",
       "      <td>S1001</td>\n",
       "      <td>Female</td>\n",
       "      <td>79.967142</td>\n",
       "      <td>86.792265</td>\n",
       "      <td>72.598574</td>\n",
       "      <td>75.460962</td>\n",
       "    </tr>\n",
       "    <tr>\n",
       "      <th>1003</th>\n",
       "      <td>S1002</td>\n",
       "      <td>Male</td>\n",
       "      <td>73.617357</td>\n",
       "      <td>81.095604</td>\n",
       "      <td>76.843851</td>\n",
       "      <td>80.698075</td>\n",
       "    </tr>\n",
       "    <tr>\n",
       "      <th>1004</th>\n",
       "      <td>S1003</td>\n",
       "      <td>Female</td>\n",
       "      <td>81.476885</td>\n",
       "      <td>70.715564</td>\n",
       "      <td>71.660641</td>\n",
       "      <td>82.931972</td>\n",
       "    </tr>\n",
       "  </tbody>\n",
       "</table>\n",
       "</div>"
      ],
      "text/plain": [
       "     Student_ID  Gender  Math_Score  English_Score  Science_Score  Attendance\n",
       "1000      S2001    Male   30.000000      20.000000      25.000000   40.000000\n",
       "1001      S2002    Male  135.000000     125.000000     120.000000  100.000000\n",
       "1002      S1001  Female   79.967142      86.792265      72.598574   75.460962\n",
       "1003      S1002    Male   73.617357      81.095604      76.843851   80.698075\n",
       "1004      S1003  Female   81.476885      70.715564      71.660641   82.931972"
      ]
     },
     "execution_count": 6,
     "metadata": {},
     "output_type": "execute_result"
    }
   ],
   "source": [
    "df.tail()"
   ]
  },
  {
   "cell_type": "code",
   "execution_count": 7,
   "id": "7418661a-aeb8-43a1-83a8-8c6ecc41f138",
   "metadata": {},
   "outputs": [
    {
     "data": {
      "text/html": [
       "<div>\n",
       "<style scoped>\n",
       "    .dataframe tbody tr th:only-of-type {\n",
       "        vertical-align: middle;\n",
       "    }\n",
       "\n",
       "    .dataframe tbody tr th {\n",
       "        vertical-align: top;\n",
       "    }\n",
       "\n",
       "    .dataframe thead th {\n",
       "        text-align: right;\n",
       "    }\n",
       "</style>\n",
       "<table border=\"1\" class=\"dataframe\">\n",
       "  <thead>\n",
       "    <tr style=\"text-align: right;\">\n",
       "      <th></th>\n",
       "      <th>Math_Score</th>\n",
       "      <th>English_Score</th>\n",
       "      <th>Science_Score</th>\n",
       "      <th>Attendance</th>\n",
       "    </tr>\n",
       "  </thead>\n",
       "  <tbody>\n",
       "    <tr>\n",
       "      <th>count</th>\n",
       "      <td>1004.000000</td>\n",
       "      <td>1004.000000</td>\n",
       "      <td>1004.000000</td>\n",
       "      <td>1004.000000</td>\n",
       "    </tr>\n",
       "    <tr>\n",
       "      <th>mean</th>\n",
       "      <td>75.219844</td>\n",
       "      <td>70.877752</td>\n",
       "      <td>78.021221</td>\n",
       "      <td>84.858825</td>\n",
       "    </tr>\n",
       "    <tr>\n",
       "      <th>std</th>\n",
       "      <td>10.058027</td>\n",
       "      <td>12.188226</td>\n",
       "      <td>8.141387</td>\n",
       "      <td>5.348865</td>\n",
       "    </tr>\n",
       "    <tr>\n",
       "      <th>min</th>\n",
       "      <td>30.000000</td>\n",
       "      <td>20.000000</td>\n",
       "      <td>25.000000</td>\n",
       "      <td>40.000000</td>\n",
       "    </tr>\n",
       "    <tr>\n",
       "      <th>25%</th>\n",
       "      <td>68.524097</td>\n",
       "      <td>62.725100</td>\n",
       "      <td>72.801361</td>\n",
       "      <td>81.233628</td>\n",
       "    </tr>\n",
       "    <tr>\n",
       "      <th>50%</th>\n",
       "      <td>75.264884</td>\n",
       "      <td>70.756926</td>\n",
       "      <td>77.951531</td>\n",
       "      <td>84.976378</td>\n",
       "    </tr>\n",
       "    <tr>\n",
       "      <th>75%</th>\n",
       "      <td>81.479439</td>\n",
       "      <td>78.824432</td>\n",
       "      <td>83.287323</td>\n",
       "      <td>88.334727</td>\n",
       "    </tr>\n",
       "    <tr>\n",
       "      <th>max</th>\n",
       "      <td>135.000000</td>\n",
       "      <td>125.000000</td>\n",
       "      <td>120.000000</td>\n",
       "      <td>101.215465</td>\n",
       "    </tr>\n",
       "  </tbody>\n",
       "</table>\n",
       "</div>"
      ],
      "text/plain": [
       "        Math_Score  English_Score  Science_Score   Attendance\n",
       "count  1004.000000    1004.000000    1004.000000  1004.000000\n",
       "mean     75.219844      70.877752      78.021221    84.858825\n",
       "std      10.058027      12.188226       8.141387     5.348865\n",
       "min      30.000000      20.000000      25.000000    40.000000\n",
       "25%      68.524097      62.725100      72.801361    81.233628\n",
       "50%      75.264884      70.756926      77.951531    84.976378\n",
       "75%      81.479439      78.824432      83.287323    88.334727\n",
       "max     135.000000     125.000000     120.000000   101.215465"
      ]
     },
     "execution_count": 7,
     "metadata": {},
     "output_type": "execute_result"
    }
   ],
   "source": [
    "df.describe()"
   ]
  },
  {
   "cell_type": "code",
   "execution_count": 19,
   "id": "7dbc0d48-0cba-4c57-a7cf-ace1f0ac471c",
   "metadata": {},
   "outputs": [
    {
     "data": {
      "text/plain": [
       "Index(['Student_ID', 'Gender', 'Math_Score', 'English_Score', 'Science_Score',\n",
       "       'Attendance'],\n",
       "      dtype='object')"
      ]
     },
     "execution_count": 19,
     "metadata": {},
     "output_type": "execute_result"
    }
   ],
   "source": [
    "df.columns"
   ]
  },
  {
   "cell_type": "code",
   "execution_count": 20,
   "id": "ae3b1035-1907-40f9-b4a7-c138fbb87924",
   "metadata": {},
   "outputs": [],
   "source": [
    "score = ['Math_Score', 'Science_Score', 'English_Score']"
   ]
  },
  {
   "cell_type": "code",
   "execution_count": 21,
   "id": "b5b6e5f5-754e-49aa-bcbe-759e0682b684",
   "metadata": {},
   "outputs": [],
   "source": [
    "for col in score:\n",
    "    df[col] = df[col].fillna(df[col].median())"
   ]
  },
  {
   "cell_type": "code",
   "execution_count": 13,
   "id": "44d9f6f5-1ca0-4788-93bc-afad176e1ecf",
   "metadata": {},
   "outputs": [
    {
     "data": {
      "text/plain": [
       "Student_ID       0\n",
       "Gender           0\n",
       "Math_Score       0\n",
       "English_Score    0\n",
       "Science_Score    0\n",
       "Attendance       1\n",
       "dtype: int64"
      ]
     },
     "execution_count": 13,
     "metadata": {},
     "output_type": "execute_result"
    }
   ],
   "source": [
    "df.isnull().sum()"
   ]
  },
  {
   "cell_type": "code",
   "execution_count": 26,
   "id": "2c1d31be-fbc1-4b3f-a786-5848d4b689ba",
   "metadata": {},
   "outputs": [
    {
     "data": {
      "text/plain": [
       "Text(0.5, 1.0, 'Maths score')"
      ]
     },
     "execution_count": 26,
     "metadata": {},
     "output_type": "execute_result"
    },
    {
     "data": {
      "image/png": "[encoded data removed]",
      "text/plain": [
       "<Figure size 640x480 with 1 Axes>"
      ]
     },
     "metadata": {},
     "output_type": "display_data"
    }
   ],
   "source": [
    "sns.histplot(df['Math_Score'],bins=20,kde=True)\n",
    "plt.title(\"Maths score\")"
   ]
  },
  {
   "cell_type": "code",
   "execution_count": 27,
   "id": "c2db87b5-3f52-499b-a601-d37f51c89677",
   "metadata": {},
   "outputs": [
    {
     "data": {
      "text/plain": [
       "Text(0.5, 1.0, 'Maths score')"
      ]
     },
     "execution_count": 27,
     "metadata": {},
     "output_type": "execute_result"
    },
    {
     "data": {
      "image/png": "[encoded data removed]",
      "text/plain": [
       "<Figure size 640x480 with 1 Axes>"
      ]
     },
     "metadata": {},
     "output_type": "display_data"
    }
   ],
   "source": [
    "sns.histplot(df['Math_Score'],bins=10,kde=True)\n",
    "plt.title(\"Maths score\")"
   ]
  },
  {
   "cell_type": "code",
   "execution_count": 28,
   "id": "2e00f192-bb24-4799-9e19-5cc8135e9d0b",
   "metadata": {},
   "outputs": [],
   "source": [
    "dff = pd.read_csv(\"mark_sheet_dataset.csv\")"
   ]
  },
  {
   "cell_type": "code",
   "execution_count": 29,
   "id": "d462ff25-6850-4d4a-9965-00d9f62faaa2",
   "metadata": {},
   "outputs": [
    {
     "name": "stdout",
     "output_type": "stream",
     "text": [
      "<class 'pandas.core.frame.DataFrame'>\n",
      "RangeIndex: 1005 entries, 0 to 1004\n",
      "Data columns (total 6 columns):\n",
      " #   Column         Non-Null Count  Dtype  \n",
      "---  ------         --------------  -----  \n",
      " 0   Student_ID     1005 non-null   object \n",
      " 1   Gender         1005 non-null   object \n",
      " 2   Math_Score     1004 non-null   float64\n",
      " 3   English_Score  1004 non-null   float64\n",
      " 4   Science_Score  1004 non-null   float64\n",
      " 5   Attendance     1004 non-null   float64\n",
      "dtypes: float64(4), object(2)\n",
      "memory usage: 47.2+ KB\n"
     ]
    }
   ],
   "source": [
    "dff.info()"
   ]
  },
  {
   "cell_type": "code",
   "execution_count": 30,
   "id": "f973056d-8888-4df5-b544-4d5a11521d1e",
   "metadata": {},
   "outputs": [
    {
     "data": {
      "text/plain": [
       "Student_ID       0\n",
       "Gender           0\n",
       "Math_Score       1\n",
       "English_Score    1\n",
       "Science_Score    1\n",
       "Attendance       1\n",
       "dtype: int64"
      ]
     },
     "execution_count": 30,
     "metadata": {},
     "output_type": "execute_result"
    }
   ],
   "source": [
    "dff.isnull().sum()"
   ]
  },
  {
   "cell_type": "code",
   "execution_count": 31,
   "id": "2abdf5e1-09ed-463c-b337-e4aa553aa93a",
   "metadata": {},
   "outputs": [
    {
     "data": {
      "text/plain": [
       "Index(['Student_ID', 'Gender', 'Math_Score', 'English_Score', 'Science_Score',\n",
       "       'Attendance'],\n",
       "      dtype='object')"
      ]
     },
     "execution_count": 31,
     "metadata": {},
     "output_type": "execute_result"
    }
   ],
   "source": [
    "dff.columns"
   ]
  },
  {
   "cell_type": "code",
   "execution_count": 32,
   "id": "7a0804b9-c83c-43db-97f4-a14e42ed9249",
   "metadata": {},
   "outputs": [],
   "source": [
    "ms=['Math_Score', 'English_Score', 'Science_Score',\n",
    "       'Attendance']"
   ]
  },
  {
   "cell_type": "code",
   "execution_count": 33,
   "id": "f57352bd-0a65-4491-ac8e-eebf525a5a59",
   "metadata": {},
   "outputs": [],
   "source": [
    "for col in ms:\n",
    "    dff[col] = dff[col].fillna(dff[col].median())"
   ]
  },
  {
   "cell_type": "code",
   "execution_count": 34,
   "id": "878ccdc5-6552-4195-a2ad-c26d61293048",
   "metadata": {},
   "outputs": [
    {
     "data": {
      "text/plain": [
       "<Axes: xlabel='Math_Score', ylabel='Count'>"
      ]
     },
     "execution_count": 34,
     "metadata": {},
     "output_type": "execute_result"
    },
    {
     "data": {
      "image/png": "[encoded data removed]",
      "text/plain": [
       "<Figure size 640x480 with 1 Axes>"
      ]
     },
     "metadata": {},
     "output_type": "display_data"
    }
   ],
   "source": [
    "sns.histplot(dff['Math_Score'],bins=10,kde=True)"
   ]
  },
  {
   "cell_type": "code",
   "execution_count": 35,
   "id": "7564c480-5b01-43ed-96ca-906ce06455cb",
   "metadata": {},
   "outputs": [
    {
     "data": {
      "text/plain": [
       "<Axes: xlabel='English_Score', ylabel='Count'>"
      ]
     },
     "execution_count": 35,
     "metadata": {},
     "output_type": "execute_result"
    },
    {
     "data": {
      "image/png": "[encoded data removed]",
      "text/plain": [
       "<Figure size 640x480 with 1 Axes>"
      ]
     },
     "metadata": {},
     "output_type": "display_data"
    }
   ],
   "source": [
    "sns.histplot(dff['English_Score'],bins=10,kde=True)"
   ]
  },
  {
   "cell_type": "code",
   "execution_count": 36,
   "id": "135bb6d3-f263-4a47-83df-1b430313e0fd",
   "metadata": {},
   "outputs": [
    {
     "data": {
      "text/plain": [
       "<Axes: xlabel='Science_Score', ylabel='Count'>"
      ]
     },
     "execution_count": 36,
     "metadata": {},
     "output_type": "execute_result"
    },
    {
     "data": {
      "image/png": "[encoded data removed]",
      "text/plain": [
       "<Figure size 640x480 with 1 Axes>"
      ]
     },
     "metadata": {},
     "output_type": "display_data"
    }
   ],
   "source": [
    "sns.histplot(dff['Science_Score'],bins=10,kde=True)"
   ]
  },
  {
   "cell_type": "code",
   "execution_count": 37,
   "id": "e21b636c-b744-4aec-82b1-5e6bdd46aa4e",
   "metadata": {},
   "outputs": [
    {
     "data": {
      "text/plain": [
       "<Axes: xlabel='Attendance', ylabel='Count'>"
      ]
     },
     "execution_count": 37,
     "metadata": {},
     "output_type": "execute_result"
    },
    {
     "data": {
      "image/png": "[encoded data removed]",
      "text/plain": [
       "<Figure size 640x480 with 1 Axes>"
      ]
     },
     "metadata": {},
     "output_type": "display_data"
    }
   ],
   "source": [
    "sns.histplot(dff['Attendance'],bins=10,kde=True)"
   ]
  },
  {
   "cell_type": "code",
   "execution_count": 54,
   "id": "97250a5c-6c98-491c-a59c-9d2ca6361b58",
   "metadata": {},
   "outputs": [],
   "source": [
    "from scipy.stats import zscore\n",
    "z_scores = df[['Math_Score', 'English_Score', 'Science_Score',\n",
    "       'Attendance']].apply(zscore)"
   ]
  },
  {
   "cell_type": "code",
   "execution_count": 40,
   "id": "2f8f9e8b-08bf-4ace-863d-df5a2a4afccb",
   "metadata": {},
   "outputs": [
    {
     "data": {
      "text/html": [
       "<div>\n",
       "<style scoped>\n",
       "    .dataframe tbody tr th:only-of-type {\n",
       "        vertical-align: middle;\n",
       "    }\n",
       "\n",
       "    .dataframe tbody tr th {\n",
       "        vertical-align: top;\n",
       "    }\n",
       "\n",
       "    .dataframe thead th {\n",
       "        text-align: right;\n",
       "    }\n",
       "</style>\n",
       "<table border=\"1\" class=\"dataframe\">\n",
       "  <thead>\n",
       "    <tr style=\"text-align: right;\">\n",
       "      <th></th>\n",
       "      <th>Math_Score</th>\n",
       "      <th>English_Score</th>\n",
       "      <th>Science_Score</th>\n",
       "      <th>Attendance</th>\n",
       "    </tr>\n",
       "  </thead>\n",
       "  <tbody>\n",
       "    <tr>\n",
       "      <th>0</th>\n",
       "      <td>0.472457</td>\n",
       "      <td>1.307039</td>\n",
       "      <td>-0.666715</td>\n",
       "      <td>-1.758755</td>\n",
       "    </tr>\n",
       "    <tr>\n",
       "      <th>1</th>\n",
       "      <td>-0.159487</td>\n",
       "      <td>0.839183</td>\n",
       "      <td>-0.144751</td>\n",
       "      <td>-0.778672</td>\n",
       "    </tr>\n",
       "    <tr>\n",
       "      <th>2</th>\n",
       "      <td>0.622710</td>\n",
       "      <td>-0.013310</td>\n",
       "      <td>-0.782035</td>\n",
       "      <td>-0.360617</td>\n",
       "    </tr>\n",
       "    <tr>\n",
       "      <th>3</th>\n",
       "      <td>1.493868</td>\n",
       "      <td>-0.709659</td>\n",
       "      <td>-0.305516</td>\n",
       "      <td>1.792724</td>\n",
       "    </tr>\n",
       "    <tr>\n",
       "      <th>4</th>\n",
       "      <td>-0.254918</td>\n",
       "      <td>0.616047</td>\n",
       "      <td>-1.865184</td>\n",
       "      <td>0.547170</td>\n",
       "    </tr>\n",
       "    <tr>\n",
       "      <th>...</th>\n",
       "      <td>...</td>\n",
       "      <td>...</td>\n",
       "      <td>...</td>\n",
       "      <td>...</td>\n",
       "    </tr>\n",
       "    <tr>\n",
       "      <th>1000</th>\n",
       "      <td>-4.500381</td>\n",
       "      <td>-4.178486</td>\n",
       "      <td>-6.519035</td>\n",
       "      <td>-8.394983</td>\n",
       "    </tr>\n",
       "    <tr>\n",
       "      <th>1001</th>\n",
       "      <td>5.949445</td>\n",
       "      <td>4.444970</td>\n",
       "      <td>5.161366</td>\n",
       "      <td>2.833525</td>\n",
       "    </tr>\n",
       "    <tr>\n",
       "      <th>1002</th>\n",
       "      <td>0.472457</td>\n",
       "      <td>1.307039</td>\n",
       "      <td>-0.666715</td>\n",
       "      <td>-1.758755</td>\n",
       "    </tr>\n",
       "    <tr>\n",
       "      <th>1003</th>\n",
       "      <td>-0.159487</td>\n",
       "      <td>0.839183</td>\n",
       "      <td>-0.144751</td>\n",
       "      <td>-0.778672</td>\n",
       "    </tr>\n",
       "    <tr>\n",
       "      <th>1004</th>\n",
       "      <td>0.622710</td>\n",
       "      <td>-0.013310</td>\n",
       "      <td>-0.782035</td>\n",
       "      <td>-0.360617</td>\n",
       "    </tr>\n",
       "  </tbody>\n",
       "</table>\n",
       "<p>1005 rows × 4 columns</p>\n",
       "</div>"
      ],
      "text/plain": [
       "      Math_Score  English_Score  Science_Score  Attendance\n",
       "0       0.472457       1.307039      -0.666715   -1.758755\n",
       "1      -0.159487       0.839183      -0.144751   -0.778672\n",
       "2       0.622710      -0.013310      -0.782035   -0.360617\n",
       "3       1.493868      -0.709659      -0.305516    1.792724\n",
       "4      -0.254918       0.616047      -1.865184    0.547170\n",
       "...          ...            ...            ...         ...\n",
       "1000   -4.500381      -4.178486      -6.519035   -8.394983\n",
       "1001    5.949445       4.444970       5.161366    2.833525\n",
       "1002    0.472457       1.307039      -0.666715   -1.758755\n",
       "1003   -0.159487       0.839183      -0.144751   -0.778672\n",
       "1004    0.622710      -0.013310      -0.782035   -0.360617\n",
       "\n",
       "[1005 rows x 4 columns]"
      ]
     },
     "execution_count": 40,
     "metadata": {},
     "output_type": "execute_result"
    }
   ],
   "source": [
    "z_scores "
   ]
  },
  {
   "cell_type": "code",
   "execution_count": 41,
   "id": "3f5a9c44-5601-49ac-9795-d172991bdaef",
   "metadata": {},
   "outputs": [],
   "source": [
    "outliers = (z_scores < -3) | (z_scores > 3)"
   ]
  },
  {
   "cell_type": "code",
   "execution_count": 42,
   "id": "36580fcd-73c2-437c-bbb0-f4603956d27d",
   "metadata": {},
   "outputs": [],
   "source": [
    "total_outliers = outliers.sum()"
   ]
  },
  {
   "cell_type": "code",
   "execution_count": 43,
   "id": "69179ac8-f239-4b07-80ef-992e6297b5a5",
   "metadata": {},
   "outputs": [
    {
     "name": "stdout",
     "output_type": "stream",
     "text": [
      "Math_Score       5\n",
      "English_Score    4\n",
      "Science_Score    4\n",
      "Attendance       2\n",
      "dtype: int64\n"
     ]
    }
   ],
   "source": [
    "print(total_outliers)"
   ]
  },
  {
   "cell_type": "code",
   "execution_count": 48,
   "id": "cf9f4f69-e6d5-4bdc-9c0f-d4998d8c0bbc",
   "metadata": {},
   "outputs": [],
   "source": [
    "numeric_cols = ['Math_Score', 'English_Score', 'Science_Score',\n",
    "       ]\n",
    "original_stats = {}"
   ]
  },
  {
   "cell_type": "code",
   "execution_count": 49,
   "id": "fa1b9ee0-0a50-4318-a626-d883d403523a",
   "metadata": {},
   "outputs": [
    {
     "name": "stdout",
     "output_type": "stream",
     "text": [
      "clipped values in Math_Score\n",
      "clipped values in English_Score\n",
      "clipped values in Science_Score\n"
     ]
    }
   ],
   "source": [
    "for col in numeric_cols:\n",
    "    mean_val = df[col].mean()\n",
    "    df[col] =df[col].fillna(mean_val)\n",
    "    std_val = df[col].std()\n",
    "    original_stats[col] = (mean_val,std_val)\n",
    "    df[col] = df[col].clip(lower = mean_val - 3 * std_val , upper = mean_val + 3 * std_val)\n",
    "    print(f\"clipped values in {col}\")\n",
    "    "
   ]
  },
  {
   "cell_type": "code",
   "execution_count": 50,
   "id": "41c81b5a-4571-49f8-83c2-475089344473",
   "metadata": {},
   "outputs": [
    {
     "name": "stdout",
     "output_type": "stream",
     "text": [
      "outliers is 0 in Math_Score\n",
      "outliers is 0 in English_Score\n",
      "outliers is 0 in Science_Score\n"
     ]
    }
   ],
   "source": [
    "for col in numeric_cols:\n",
    "    mean_val = df[col].mean()\n",
    "    std_val = df[col].std()\n",
    "    mean_val , std_val = original_stats[col]\n",
    "    lower_bound = mean_val - 3 * std_val\n",
    "    upper_bound = mean_val + 3 * std_val\n",
    "    outliers_remaining = df[(df[col] < lower_bound) | (df[col] > upper_bound)].shape[0]\n",
    "    if outliers_remaining == 0:\n",
    "       print(f\"outliers is {outliers_remaining} in {col}\")\n",
    "    else:\n",
    "        print(\"outliers are there\")"
   ]
  },
  {
   "cell_type": "code",
   "execution_count": 51,
   "id": "c4b40185-0c4b-4f70-8495-aa1add44e99e",
   "metadata": {},
   "outputs": [
    {
     "name": "stdout",
     "output_type": "stream",
     "text": [
      "outliers is 0 in Math_Score\n",
      "outliers is 0 in English_Score\n",
      "outliers is 0 in Science_Score\n"
     ]
    }
   ],
   "source": [
    "for col in numeric_cols:\n",
    "    mean_val , std_val = original_stats[col]\n",
    "    lower_bound = mean_val - 3 * std_val\n",
    "    upper_bound = mean_val + 3 * std_val\n",
    "    outliers_remaining = df[(df[col] < lower_bound) | (df[col] > upper_bound)].shape[0]\n",
    "    print(f\"outliers is {outliers_remaining} in {col}\")\n",
    "    "
   ]
  },
  {
   "cell_type": "code",
   "execution_count": 55,
   "id": "26f0e37d-0985-4740-8a3c-e16dccc9ef0c",
   "metadata": {},
   "outputs": [
    {
     "data": {
      "text/plain": [
       "<Figure size 1200x1400 with 0 Axes>"
      ]
     },
     "metadata": {},
     "output_type": "display_data"
    },
    {
     "data": {
      "image/png": "[encoded data removed]",
      "text/plain": [
       "<Figure size 640x480 with 1 Axes>"
      ]
     },
     "metadata": {},
     "output_type": "display_data"
    }
   ],
   "source": [
    "plt.figure(figsize=(12,14 ))\n",
    "avg_scores_by_gender = df.groupby(\"Gender\")[[\"Math_Score\", \"English_Score\", \"Science_Score\"]].mean().reset_index()\n",
    "avg_scores_by_gender.set_index(\"Gender\").plot(kind='bar')\n",
    "plt.title(\"Average Subject Scores by Gender\")\n",
    "plt.ylabel(\"Average Score\")\n",
    "plt.tight_layout()\n",
    "plt.show()\n"
   ]
  },
  {
   "cell_type": "code",
   "execution_count": null,
   "id": "596a04cf-5ce3-4a59-b57e-08db3253a149",
   "metadata": {},
   "outputs": [],
   "source": []
  }
 ],
 "metadata": {
  "kernelspec": {
   "display_name": "Python [conda env:base] *",
   "language": "python",
   "name": "conda-base-py"
  },
  "language_info": {
   "codemirror_mode": {
    "name": "ipython",
    "version": 3
   },
   "file_extension": ".py",
   "mimetype": "text/x-python",
   "name": "python",
   "nbconvert_exporter": "python",
   "pygments_lexer": "ipython3",
   "version": "3.12.7"
  }
 },
 "nbformat": 4,
 "nbformat_minor": 5
}
